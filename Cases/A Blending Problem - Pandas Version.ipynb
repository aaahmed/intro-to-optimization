{
 "cells": [
  {
   "cell_type": "markdown",
   "metadata": {},
   "source": [
    "# A Blending Problem - Revisited with PuLP and Pandas\n",
    "\n",
    "PuLP is an outsanding library for optimization. However, most of the example use cases you will find on the web are somewhat outdated.  \n",
    "In this notebook, we introduce a more intuitive and convenient way of using PuLP package in combination with Pandas.\n",
    "\n",
    "For detailed problem description and original solution provided by *Anthony Pillips* and *Dr Stuart Mitchell*, please see the notebook `A Blending Problem - Introduction to Optimization.ipynb`, or the original website: https://pythonhosted.org/PuLP/."
   ]
  },
  {
   "cell_type": "code",
   "execution_count": 1,
   "metadata": {},
   "outputs": [],
   "source": [
    "\"\"\"\n",
    "The Full Whiskas Model Pandas/Python Formulation for the PuLP Modeller\n",
    "\n",
    "Authors: Cesar 2019\n",
    "\"\"\"\n",
    "\n",
    "from pulp import LpProblem, LpMinimize, LpVariable, value\n",
    "import pandas as pd"
   ]
  },
  {
   "attachments": {
    "image.png": {
     "image/png": "[encoded data removed]"
    }
   },
   "cell_type": "markdown",
   "metadata": {},
   "source": [
    "## Brief Description\n",
    "\n",
    "Whiskas cat food, shown above, is manufactured by Uncle Ben’s. Uncle Ben’s want to produce their cat food products as cheaply as possible while ensuring they meet the stated nutritional analysis requirements shown on the cans. Thus they want to vary the quantities of each ingredient used (the main ingredients being chicken, beef, mutton, rice, wheat and gel) while still meeting their nutritional standards.\n",
    "\n",
    "The costs of the chicken, beef, and mutton are \\\\$0.013, \\\\$0.008 and \\\\$0.010 respectively, while the costs of the rice, wheat and gel are \\\\$0.002, \\\\$0.005 and \\\\$0.001 respectively. (All costs are per gram.) For this exercise we will ignore the vitamin and mineral ingredients. (Any costs for these are likely to be very small anyway.)\n",
    "\n",
    "\n",
    "Each ingredient contributes to the total weight of protein, fat, fibre and salt in the final product. The contributions (in grams) per gram of ingredient are given in the table below.\n",
    "\n",
    "![image.png](attachment:image.png)\n",
    "\n",
    "Nutritional values are given below in seperate dictionaries:"
   ]
  },
  {
   "cell_type": "code",
   "execution_count": 2,
   "metadata": {},
   "outputs": [],
   "source": [
    "# A dictionary of the costs of each of the Ingredients is created\n",
    "costs = {'CHICKEN': 0.013, 'BEEF': 0.008, \n",
    "         'MUTTON': 0.010, 'RICE': 0.002, \n",
    "         'WHEAT': 0.005, 'GEL': 0.001}\n",
    "\n",
    "# A dictionary of the protein percent in each of the Ingredients is created\n",
    "proteinPercent = {'CHICKEN': 0.100, 'BEEF': 0.200, \n",
    "                  'MUTTON': 0.150, 'RICE': 0.000, \n",
    "                  'WHEAT': 0.040, 'GEL': 0.000}\n",
    "\n",
    "# A dictionary of the fat percent in each of the Ingredients is created\n",
    "fatPercent = {'CHICKEN': 0.080, 'BEEF': 0.100, \n",
    "              'MUTTON': 0.110, 'RICE': 0.010, \n",
    "              'WHEAT': 0.010, 'GEL': 0.000}\n",
    "\n",
    "# A dictionary of the fibre percent in each of the Ingredients is created\n",
    "fibrePercent = {'CHICKEN': 0.001, 'BEEF': 0.005, \n",
    "                'MUTTON': 0.003, 'RICE': 0.100, \n",
    "                'WHEAT': 0.150, 'GEL': 0.000}\n",
    "\n",
    "# A dictionary of the salt percent in each of the Ingredients is created\n",
    "saltPercent = {'CHICKEN': 0.002, 'BEEF': 0.005, \n",
    "               'MUTTON': 0.007, 'RICE': 0.002, \n",
    "               'WHEAT': 0.008, 'GEL': 0.000}"
   ]
  },
  {
   "cell_type": "markdown",
   "metadata": {},
   "source": [
    "Using dictionaries defined above, nutritional values are converted into a pandas DataFrame."
   ]
  },
  {
   "cell_type": "code",
   "execution_count": 3,
   "metadata": {},
   "outputs": [
    {
     "data": {
      "text/html": [
       "<div>\n",
       "<style scoped>\n",
       "    .dataframe tbody tr th:only-of-type {\n",
       "        vertical-align: middle;\n",
       "    }\n",
       "\n",
       "    .dataframe tbody tr th {\n",
       "        vertical-align: top;\n",
       "    }\n",
       "\n",
       "    .dataframe thead th {\n",
       "        text-align: right;\n",
       "    }\n",
       "</style>\n",
       "<table border=\"1\" class=\"dataframe\">\n",
       "  <thead>\n",
       "    <tr style=\"text-align: right;\">\n",
       "      <th></th>\n",
       "      <th>costs</th>\n",
       "      <th>proteinPercent</th>\n",
       "      <th>fatPercent</th>\n",
       "      <th>fibrePercent</th>\n",
       "      <th>saltPercent</th>\n",
       "    </tr>\n",
       "  </thead>\n",
       "  <tbody>\n",
       "    <tr>\n",
       "      <th>BEEF</th>\n",
       "      <td>0.008</td>\n",
       "      <td>0.20</td>\n",
       "      <td>0.10</td>\n",
       "      <td>0.005</td>\n",
       "      <td>0.005</td>\n",
       "    </tr>\n",
       "    <tr>\n",
       "      <th>CHICKEN</th>\n",
       "      <td>0.013</td>\n",
       "      <td>0.10</td>\n",
       "      <td>0.08</td>\n",
       "      <td>0.001</td>\n",
       "      <td>0.002</td>\n",
       "    </tr>\n",
       "    <tr>\n",
       "      <th>GEL</th>\n",
       "      <td>0.001</td>\n",
       "      <td>0.00</td>\n",
       "      <td>0.00</td>\n",
       "      <td>0.000</td>\n",
       "      <td>0.000</td>\n",
       "    </tr>\n",
       "    <tr>\n",
       "      <th>MUTTON</th>\n",
       "      <td>0.010</td>\n",
       "      <td>0.15</td>\n",
       "      <td>0.11</td>\n",
       "      <td>0.003</td>\n",
       "      <td>0.007</td>\n",
       "    </tr>\n",
       "    <tr>\n",
       "      <th>RICE</th>\n",
       "      <td>0.002</td>\n",
       "      <td>0.00</td>\n",
       "      <td>0.01</td>\n",
       "      <td>0.100</td>\n",
       "      <td>0.002</td>\n",
       "    </tr>\n",
       "    <tr>\n",
       "      <th>WHEAT</th>\n",
       "      <td>0.005</td>\n",
       "      <td>0.04</td>\n",
       "      <td>0.01</td>\n",
       "      <td>0.150</td>\n",
       "      <td>0.008</td>\n",
       "    </tr>\n",
       "  </tbody>\n",
       "</table>\n",
       "</div>"
      ],
      "text/plain": [
       "         costs  proteinPercent  fatPercent  fibrePercent  saltPercent\n",
       "BEEF     0.008            0.20        0.10         0.005        0.005\n",
       "CHICKEN  0.013            0.10        0.08         0.001        0.002\n",
       "GEL      0.001            0.00        0.00         0.000        0.000\n",
       "MUTTON   0.010            0.15        0.11         0.003        0.007\n",
       "RICE     0.002            0.00        0.01         0.100        0.002\n",
       "WHEAT    0.005            0.04        0.01         0.150        0.008"
      ]
     },
     "execution_count": 3,
     "metadata": {},
     "output_type": "execute_result"
    }
   ],
   "source": [
    "data = pd.DataFrame({'costs':costs,\n",
    "                     'proteinPercent': proteinPercent,\n",
    "                     'fatPercent': fatPercent,\n",
    "                     'fibrePercent': fibrePercent,\n",
    "                     'saltPercent': saltPercent})\n",
    "data"
   ]
  },
  {
   "cell_type": "markdown",
   "metadata": {},
   "source": [
    "At this point, variables are created as ingredient precentages for each item."
   ]
  },
  {
   "cell_type": "markdown",
   "metadata": {},
   "source": [
    "Since items simply cannot have negative ingredient percentage, we define upper and lower boundaries of percentages as `0` and `100`, respectively."
   ]
  },
  {
   "cell_type": "code",
   "execution_count": 4,
   "metadata": {},
   "outputs": [
    {
     "data": {
      "text/html": [
       "<div>\n",
       "<style scoped>\n",
       "    .dataframe tbody tr th:only-of-type {\n",
       "        vertical-align: middle;\n",
       "    }\n",
       "\n",
       "    .dataframe tbody tr th {\n",
       "        vertical-align: top;\n",
       "    }\n",
       "\n",
       "    .dataframe thead th {\n",
       "        text-align: right;\n",
       "    }\n",
       "</style>\n",
       "<table border=\"1\" class=\"dataframe\">\n",
       "  <thead>\n",
       "    <tr style=\"text-align: right;\">\n",
       "      <th></th>\n",
       "      <th>costs</th>\n",
       "      <th>proteinPercent</th>\n",
       "      <th>fatPercent</th>\n",
       "      <th>fibrePercent</th>\n",
       "      <th>saltPercent</th>\n",
       "      <th>ingredient_pct</th>\n",
       "    </tr>\n",
       "  </thead>\n",
       "  <tbody>\n",
       "    <tr>\n",
       "      <th>BEEF</th>\n",
       "      <td>0.008</td>\n",
       "      <td>0.20</td>\n",
       "      <td>0.10</td>\n",
       "      <td>0.005</td>\n",
       "      <td>0.005</td>\n",
       "      <td>BEEF_pct</td>\n",
       "    </tr>\n",
       "    <tr>\n",
       "      <th>CHICKEN</th>\n",
       "      <td>0.013</td>\n",
       "      <td>0.10</td>\n",
       "      <td>0.08</td>\n",
       "      <td>0.001</td>\n",
       "      <td>0.002</td>\n",
       "      <td>CHICKEN_pct</td>\n",
       "    </tr>\n",
       "    <tr>\n",
       "      <th>GEL</th>\n",
       "      <td>0.001</td>\n",
       "      <td>0.00</td>\n",
       "      <td>0.00</td>\n",
       "      <td>0.000</td>\n",
       "      <td>0.000</td>\n",
       "      <td>GEL_pct</td>\n",
       "    </tr>\n",
       "    <tr>\n",
       "      <th>MUTTON</th>\n",
       "      <td>0.010</td>\n",
       "      <td>0.15</td>\n",
       "      <td>0.11</td>\n",
       "      <td>0.003</td>\n",
       "      <td>0.007</td>\n",
       "      <td>MUTTON_pct</td>\n",
       "    </tr>\n",
       "    <tr>\n",
       "      <th>RICE</th>\n",
       "      <td>0.002</td>\n",
       "      <td>0.00</td>\n",
       "      <td>0.01</td>\n",
       "      <td>0.100</td>\n",
       "      <td>0.002</td>\n",
       "      <td>RICE_pct</td>\n",
       "    </tr>\n",
       "    <tr>\n",
       "      <th>WHEAT</th>\n",
       "      <td>0.005</td>\n",
       "      <td>0.04</td>\n",
       "      <td>0.01</td>\n",
       "      <td>0.150</td>\n",
       "      <td>0.008</td>\n",
       "      <td>WHEAT_pct</td>\n",
       "    </tr>\n",
       "  </tbody>\n",
       "</table>\n",
       "</div>"
      ],
      "text/plain": [
       "         costs  proteinPercent  fatPercent  fibrePercent  saltPercent  \\\n",
       "BEEF     0.008            0.20        0.10         0.005        0.005   \n",
       "CHICKEN  0.013            0.10        0.08         0.001        0.002   \n",
       "GEL      0.001            0.00        0.00         0.000        0.000   \n",
       "MUTTON   0.010            0.15        0.11         0.003        0.007   \n",
       "RICE     0.002            0.00        0.01         0.100        0.002   \n",
       "WHEAT    0.005            0.04        0.01         0.150        0.008   \n",
       "\n",
       "        ingredient_pct  \n",
       "BEEF          BEEF_pct  \n",
       "CHICKEN    CHICKEN_pct  \n",
       "GEL            GEL_pct  \n",
       "MUTTON      MUTTON_pct  \n",
       "RICE          RICE_pct  \n",
       "WHEAT        WHEAT_pct  "
      ]
     },
     "execution_count": 4,
     "metadata": {},
     "output_type": "execute_result"
    }
   ],
   "source": [
    "variables = [LpVariable(f\"{ingredient}_pct\",0,100) for ingredient in data.index]\n",
    "data['ingredient_pct'] = variables\n",
    "data"
   ]
  },
  {
   "cell_type": "markdown",
   "metadata": {},
   "source": [
    "Problem object is initiated."
   ]
  },
  {
   "cell_type": "code",
   "execution_count": 5,
   "metadata": {},
   "outputs": [],
   "source": [
    "prob = LpProblem('WhiskasOpt', LpMinimize)"
   ]
  },
  {
   "cell_type": "markdown",
   "metadata": {},
   "source": [
    "Optimization objective for this problem is, intuitively, minimizing the cost while keeping the nutritional standard of the food.  \n",
    "Total cost can be defined as\n",
    "$$ total\\ cost= \\sum_i{(cost_i\\ percentage_i\\ can\\ size)}$$\n",
    "$$where\\ i\\ \\in food\\ items$$"
   ]
  },
  {
   "cell_type": "code",
   "execution_count": 6,
   "metadata": {},
   "outputs": [],
   "source": [
    "# optimization objective:\n",
    "\n",
    "prob += (data['costs'] * data['ingredient_pct']).sum()"
   ]
  },
  {
   "cell_type": "markdown",
   "metadata": {},
   "source": [
    "Nutritional standards for each can is as follows:\n",
    "- Each 100 g can must contain:\n",
    "    - At least 8 grams of protein,\n",
    "    - At least 6 grams of fat,\n",
    "    - At most 2 grams of fibre, and\n",
    "    - At most 2 grams of salt"
   ]
  },
  {
   "cell_type": "code",
   "execution_count": 7,
   "metadata": {},
   "outputs": [],
   "source": [
    "# Constraints:\n",
    "\n",
    "# Percentages add up to 100\n",
    "prob += data['ingredient_pct'].sum() == 100\n",
    "\n",
    "# Protein Ingredient\n",
    "prob += (data['ingredient_pct'] * data['proteinPercent']).sum() >= 8.0, \"ProteinReq\"\n",
    "\n",
    "# Fat Ingredient\n",
    "prob += (data['ingredient_pct'] * data['fatPercent']).sum() >= 6.0, \"FatReq\"\n",
    "\n",
    "# Fibre Ingredient\n",
    "prob += (data['ingredient_pct'] * data['fibrePercent']).sum() <= 2.0, \"FibreReq\"\n",
    "\n",
    "# Salt ingredient\n",
    "prob += (data['ingredient_pct'] * data['saltPercent']).sum() <= 2.0, \"SaltReq\"\n"
   ]
  },
  {
   "cell_type": "markdown",
   "metadata": {},
   "source": [
    "This file is very useful to check your optimization objective and constraints.  \n",
    "It is highly recommended that you give significant names to your constraints so you can easily identify them later if any debugging necessity arises."
   ]
  },
  {
   "cell_type": "code",
   "execution_count": 8,
   "metadata": {},
   "outputs": [],
   "source": [
    "prob.writeLP(\"../LP-Files/WhiskasPd.lp\")"
   ]
  },
  {
   "cell_type": "code",
   "execution_count": 9,
   "metadata": {},
   "outputs": [
    {
     "data": {
      "text/plain": [
       "1"
      ]
     },
     "execution_count": 9,
     "metadata": {},
     "output_type": "execute_result"
    }
   ],
   "source": [
    "prob.solve()"
   ]
  },
  {
   "cell_type": "code",
   "execution_count": 10,
   "metadata": {},
   "outputs": [
    {
     "name": "stdout",
     "output_type": "stream",
     "text": [
      "Optimal cost of each 100g food can: $0.52\n"
     ]
    }
   ],
   "source": [
    "print(f\"Optimal cost of each 100g food can: ${prob.objective.value()}\")"
   ]
  },
  {
   "cell_type": "markdown",
   "metadata": {},
   "source": [
    "Finally, we can inspect the optimal food item percentages as follows:"
   ]
  },
  {
   "cell_type": "code",
   "execution_count": 11,
   "metadata": {},
   "outputs": [
    {
     "data": {
      "text/plain": [
       "BEEF       60.0\n",
       "CHICKEN     0.0\n",
       "GEL        40.0\n",
       "MUTTON      0.0\n",
       "RICE        0.0\n",
       "WHEAT       0.0\n",
       "Name: ingredient_pct, dtype: float64"
      ]
     },
     "execution_count": 11,
     "metadata": {},
     "output_type": "execute_result"
    }
   ],
   "source": [
    "data['ingredient_pct'].apply(lambda x: x.value())"
   ]
  }
 ],
 "metadata": {
  "kernelspec": {
   "display_name": "Python 3",
   "language": "python",
   "name": "python3"
  },
  "language_info": {
   "codemirror_mode": {
    "name": "ipython",
    "version": 3
   },
   "file_extension": ".py",
   "mimetype": "text/x-python",
   "name": "python",
   "nbconvert_exporter": "python",
   "pygments_lexer": "ipython3",
   "version": "3.6.6"
  }
 },
 "nbformat": 4,
 "nbformat_minor": 2
}
